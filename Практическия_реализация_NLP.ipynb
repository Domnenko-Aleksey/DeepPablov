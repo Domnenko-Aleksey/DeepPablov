{
  "cells": [
    {
      "cell_type": "markdown",
      "metadata": {
        "id": "8MDzsh_rqrGD"
      },
      "source": [
        "# Практическия реализация NLP"
      ]
    },
    {
      "cell_type": "markdown",
      "source": [
        "# Colab: https://drive.google.com/file/d/1EB3Nbyk7oXJOP0KYaU2V_dPY2g6bFdre/view?usp=sharing"
      ],
      "metadata": {
        "id": "G3XjBoss9Fmp"
      }
    },
    {
      "cell_type": "markdown",
      "metadata": {
        "id": "d3MQ-j3-XzqM"
      },
      "source": [
        "In this assignment you will perform sentiment analysis of the IMDBs reviews by using RNN."
      ]
    },
    {
      "cell_type": "code",
      "execution_count": null,
      "metadata": {
        "id": "ZZ3tq2efXzqN",
        "colab": {
          "base_uri": "https://localhost:8080/"
        },
        "outputId": "0fcfa6ea-158e-49f7-d9ee-ddb61f6d57d1"
      },
      "outputs": [
        {
          "output_type": "stream",
          "name": "stdout",
          "text": [
            "Looking in indexes: https://pypi.org/simple, https://us-python.pkg.dev/colab-wheels/public/simple/\n",
            "Requirement already satisfied: torch==1.6.0 in /usr/local/lib/python3.7/dist-packages (1.6.0)\n",
            "Requirement already satisfied: numpy in /usr/local/lib/python3.7/dist-packages (from torch==1.6.0) (1.21.6)\n",
            "Requirement already satisfied: future in /usr/local/lib/python3.7/dist-packages (from torch==1.6.0) (0.16.0)\n",
            "Looking in indexes: https://pypi.org/simple, https://us-python.pkg.dev/colab-wheels/public/simple/\n",
            "Requirement already satisfied: torchtext==0.7 in /usr/local/lib/python3.7/dist-packages (0.7.0)\n",
            "Requirement already satisfied: numpy in /usr/local/lib/python3.7/dist-packages (from torchtext==0.7) (1.21.6)\n",
            "Requirement already satisfied: tqdm in /usr/local/lib/python3.7/dist-packages (from torchtext==0.7) (4.64.0)\n",
            "Requirement already satisfied: sentencepiece in /usr/local/lib/python3.7/dist-packages (from torchtext==0.7) (0.1.96)\n",
            "Requirement already satisfied: requests in /usr/local/lib/python3.7/dist-packages (from torchtext==0.7) (2.23.0)\n",
            "Requirement already satisfied: torch in /usr/local/lib/python3.7/dist-packages (from torchtext==0.7) (1.6.0)\n",
            "Requirement already satisfied: urllib3!=1.25.0,!=1.25.1,<1.26,>=1.21.1 in /usr/local/lib/python3.7/dist-packages (from requests->torchtext==0.7) (1.24.3)\n",
            "Requirement already satisfied: chardet<4,>=3.0.2 in /usr/local/lib/python3.7/dist-packages (from requests->torchtext==0.7) (3.0.4)\n",
            "Requirement already satisfied: idna<3,>=2.5 in /usr/local/lib/python3.7/dist-packages (from requests->torchtext==0.7) (2.10)\n",
            "Requirement already satisfied: certifi>=2017.4.17 in /usr/local/lib/python3.7/dist-packages (from requests->torchtext==0.7) (2022.6.15)\n",
            "Requirement already satisfied: future in /usr/local/lib/python3.7/dist-packages (from torch->torchtext==0.7) (0.16.0)\n",
            "Looking in indexes: https://pypi.org/simple, https://us-python.pkg.dev/colab-wheels/public/simple/\n",
            "Requirement already satisfied: numpy in /usr/local/lib/python3.7/dist-packages (1.21.6)\n",
            "Looking in indexes: https://pypi.org/simple, https://us-python.pkg.dev/colab-wheels/public/simple/\n",
            "Requirement already satisfied: pandas in /usr/local/lib/python3.7/dist-packages (1.3.5)\n",
            "Requirement already satisfied: pytz>=2017.3 in /usr/local/lib/python3.7/dist-packages (from pandas) (2022.1)\n",
            "Requirement already satisfied: python-dateutil>=2.7.3 in /usr/local/lib/python3.7/dist-packages (from pandas) (2.8.2)\n",
            "Requirement already satisfied: numpy>=1.17.3 in /usr/local/lib/python3.7/dist-packages (from pandas) (1.21.6)\n",
            "Requirement already satisfied: six>=1.5 in /usr/local/lib/python3.7/dist-packages (from python-dateutil>=2.7.3->pandas) (1.15.0)\n"
          ]
        }
      ],
      "source": [
        "!pip install torch==1.6.0\n",
        "!pip install torchtext==0.7\n",
        "!pip install numpy\n",
        "!pip install pandas"
      ]
    },
    {
      "cell_type": "code",
      "execution_count": null,
      "metadata": {
        "id": "bfusPGesXzqP"
      },
      "outputs": [],
      "source": [
        "import pandas as pd\n",
        "import numpy as np\n",
        "import torch\n",
        "\n",
        "from torchtext import datasets\n",
        "\n",
        "from torchtext.data import Field, LabelField\n",
        "from torchtext.data import BucketIterator\n",
        "\n",
        "import torch.nn as nn\n",
        "import torch.nn.functional as F\n",
        "import torch.optim as optim\n",
        "\n",
        "\n",
        "\n",
        "import pandas as pd\n",
        "import numpy as np\n",
        "from sklearn.metrics import f1_score, recall_score, precision_score, accuracy_score\n",
        "import statistics\n",
        "\n",
        "import torch\n",
        "import torch.nn as nn\n",
        "import torch.nn.functional as F\n",
        "from torch.autograd import Variable\n",
        "import torch.optim as optim\n",
        "\n",
        "import torchtext\n",
        "from torchtext import datasets\n",
        "from torchtext.data import Field, LabelField\n",
        "from torchtext.data import BucketIterator\n",
        "\n",
        "import warnings\n",
        "warnings.filterwarnings('ignore')"
      ]
    },
    {
      "cell_type": "markdown",
      "metadata": {
        "id": "axvxFxD0XzqP"
      },
      "source": [
        "### Preparing Data"
      ]
    },
    {
      "cell_type": "code",
      "execution_count": null,
      "metadata": {
        "id": "uFRWg-SDXzqQ"
      },
      "outputs": [],
      "source": [
        "TEXT = Field(sequential=True, lower=True)\n",
        "LABEL = LabelField()"
      ]
    },
    {
      "cell_type": "code",
      "execution_count": null,
      "metadata": {
        "id": "-KjrlhxoXzqQ"
      },
      "outputs": [],
      "source": [
        "train, tst = datasets.IMDB.splits(TEXT, LABEL)\n",
        "trn, vld = train.split()"
      ]
    },
    {
      "cell_type": "code",
      "execution_count": null,
      "metadata": {
        "id": "3kfGodmCXzqR",
        "colab": {
          "base_uri": "https://localhost:8080/"
        },
        "outputId": "9cbca934-ab0c-4f1f-a109-5eb670c58086"
      },
      "outputs": [
        {
          "output_type": "stream",
          "name": "stdout",
          "text": [
            "CPU times: user 2.1 s, sys: 61.1 ms, total: 2.16 s\n",
            "Wall time: 3.56 s\n"
          ]
        }
      ],
      "source": [
        "%%time\n",
        "TEXT.build_vocab(trn)"
      ]
    },
    {
      "cell_type": "code",
      "execution_count": null,
      "metadata": {
        "id": "nGz60xZeXzqS"
      },
      "outputs": [],
      "source": [
        "LABEL.build_vocab(trn)"
      ]
    },
    {
      "cell_type": "code",
      "execution_count": null,
      "metadata": {
        "id": "SBZXFxWQXzqT",
        "colab": {
          "base_uri": "https://localhost:8080/"
        },
        "outputId": "70cdd41e-6e48-4e8d-f962-a43161f07c69"
      },
      "outputs": [
        {
          "output_type": "execute_result",
          "data": {
            "text/plain": [
              "[('the', 225872),\n",
              " ('a', 112309),\n",
              " ('and', 111082),\n",
              " ('of', 101481),\n",
              " ('to', 93782),\n",
              " ('is', 73187),\n",
              " ('in', 63617),\n",
              " ('i', 49479),\n",
              " ('this', 48647),\n",
              " ('that', 46260)]"
            ]
          },
          "metadata": {},
          "execution_count": 7
        }
      ],
      "source": [
        "TEXT.vocab.freqs.most_common(10)"
      ]
    },
    {
      "cell_type": "markdown",
      "metadata": {
        "id": "JcpRl46sXzqT"
      },
      "source": [
        "### Creating the Iterator"
      ]
    },
    {
      "cell_type": "markdown",
      "metadata": {
        "id": "o1UXNIABXzqU"
      },
      "source": [
        "During training, we'll be using a special kind of Iterator, the **BucketIterator**. \n",
        "\n",
        "All the neural networks require to have inputs of the same shape and size. So the data saples should be padded to the same length before gathering them into batches:\n",
        "\n",
        "e.g.\n",
        "\\[ \n",
        "\\[3, 15, 2, 7\\],\n",
        "\\[4, 1\\], \n",
        "\\[5, 5, 6, 8, 1\\] \n",
        "\\] -> \\[ \n",
        "\\[3, 15, 2, 7, **0**\\],\n",
        "\\[4, 1, **0**, **0**, **0**\\], \n",
        "\\[5, 5, 6, 8, 1\\] \n",
        "\\] \n",
        "\n",
        "If the sequences of one batch differ greatly in length, the padding will consume a lot of wasteful memory and time. The BucketIterator groups sequences of similar lengths together for each batch to minimize padding."
      ]
    },
    {
      "cell_type": "markdown",
      "metadata": {
        "id": "UQBuXYjnbIZX"
      },
      "source": [
        "The **BucketIterator** usage:"
      ]
    },
    {
      "cell_type": "code",
      "execution_count": null,
      "metadata": {
        "id": "gDZcwvzXXzqU"
      },
      "outputs": [],
      "source": [
        "train_iter, val_iter, test_iter = BucketIterator.splits(\n",
        "        (trn, vld, tst),\n",
        "        batch_sizes=(64, 64, 64),\n",
        "        sort=True,\n",
        "        sort_key=lambda x: len(x.text),\n",
        "        sort_within_batch=False,\n",
        "        device='cuda',\n",
        "        repeat=False\n",
        ")"
      ]
    },
    {
      "cell_type": "markdown",
      "metadata": {
        "id": "eae_lu0GXzqV"
      },
      "source": [
        "Let's take a look at the output of the BucketIterator"
      ]
    },
    {
      "cell_type": "code",
      "execution_count": null,
      "metadata": {
        "id": "kjmCSB9aXzqV",
        "colab": {
          "base_uri": "https://localhost:8080/"
        },
        "outputId": "4b8a4000-9967-4031-ff37-cf1e79114004"
      },
      "outputs": [
        {
          "output_type": "execute_result",
          "data": {
            "text/plain": [
              "tensor([[  1264,   9368,  24308,  ...,      9,   2786,  31670],\n",
              "        [   136,  30492,      2,  ...,    368,   1185,      7],\n",
              "        [  2161,      7,  26960,  ...,  12854,      3,      3],\n",
              "        ...,\n",
              "        [     1,      1,      1,  ...,     48,      3,     87],\n",
              "        [     1,      1,      1,  ...,     32,      6,    138],\n",
              "        [     1,      1,      1,  ..., 128809,   4432,   5757]],\n",
              "       device='cuda:0')"
            ]
          },
          "metadata": {},
          "execution_count": 9
        }
      ],
      "source": [
        "batch = next(train_iter.__iter__()); batch.text"
      ]
    },
    {
      "cell_type": "markdown",
      "metadata": {
        "id": "1hm9IPdAXzqV"
      },
      "source": [
        "The batch contains all the fields we passed to the Dataset object that can be accessed as attributes with the corresponding names."
      ]
    },
    {
      "cell_type": "code",
      "execution_count": null,
      "metadata": {
        "id": "-xNoF1S0XzqW",
        "colab": {
          "base_uri": "https://localhost:8080/"
        },
        "outputId": "a63a20d4-3b71-4cdc-8a58-a7cacc528ad8"
      },
      "outputs": [
        {
          "output_type": "execute_result",
          "data": {
            "text/plain": [
              "dict_keys(['batch_size', 'dataset', 'fields', 'input_fields', 'target_fields', 'text', 'label'])"
            ]
          },
          "metadata": {},
          "execution_count": 10
        }
      ],
      "source": [
        "batch.__dict__.keys()"
      ]
    },
    {
      "cell_type": "markdown",
      "metadata": {
        "id": "8XJ8mmEZXzqW"
      },
      "source": [
        "### Define the RNN-based text classification model"
      ]
    },
    {
      "cell_type": "markdown",
      "metadata": {
        "id": "Y3MeuXZTXzqW"
      },
      "source": [
        "Let's start with the simple architecture. Implement the model according to the scheme below.  \n",
        "![alt text](https://miro.medium.com/max/1396/1*v-tLYQCsni550A-hznS0mw.jpeg)\n"
      ]
    },
    {
      "cell_type": "markdown",
      "source": [
        "# ======= ВНИМАНИЕ =======\n",
        "В задании указано: \"Определите модель классификации текста на основе **RNN**\", а на рисунке указана сеть на основе GRU. \n",
        "\n",
        "Т.к. непонятно что делать - то реализую 3 варианта:\n",
        "\n",
        "* **RNN** - простую сеть на RNN, \n",
        "* **GRU** - сеть c немного улучшенными параметрами и сделал её двунаправленной для улучшения score\n",
        "* **BERT** - модель на основе предобученной модели BERT - эксперимент для сравнения качества моделей"
      ],
      "metadata": {
        "id": "rTgLHmh4n2wl"
      }
    },
    {
      "cell_type": "markdown",
      "source": [
        "# ======= RNN ======="
      ],
      "metadata": {
        "id": "zd_J6Jo6oFpD"
      }
    },
    {
      "cell_type": "code",
      "execution_count": null,
      "metadata": {
        "id": "979yo1iSXzqW"
      },
      "outputs": [],
      "source": [
        "class RNNBaseline(nn.Module):\n",
        "    def __init__(self, hidden_dim, emb_dim, vocab_dim):\n",
        "        super().__init__()\n",
        "        self.hidden_dim = hidden_dim\n",
        "        self.emb_dim = emb_dim\n",
        "        self.vocab_dim = vocab_dim\n",
        "        self.n_classes = 2\n",
        "        self.device = torch.device('cuda' if torch.cuda.is_available() else 'cpu')  \n",
        "\n",
        "        # Layers\n",
        "        self.emb_layer = nn.Embedding(self.vocab_dim, self.emb_dim)\n",
        "        self.rnn_layer = nn.RNN(self.emb_dim, self.hidden_dim)\n",
        "        self.linear_layer = nn.Linear(self.hidden_dim, 1)\n",
        "\n",
        "            \n",
        "    def forward(self, seq):\n",
        "        emb = self.emb_layer(seq)  # seq = [seq len, batch size], emb = [seq len, batch size, self.emb_dim]\n",
        "        output, hidden = self.rnn_layer(emb)  # output = [sent len, batch size, hid dim]  # hidden = [1, batch size, hid dim]\n",
        "        preds =  self.linear_layer(hidden.squeeze(0))      \n",
        "        return preds "
      ]
    },
    {
      "cell_type": "code",
      "execution_count": null,
      "metadata": {
        "id": "ytcKa0sLXzqX",
        "colab": {
          "base_uri": "https://localhost:8080/"
        },
        "outputId": "846aa916-f130-438a-e672-c131acbec2bc"
      },
      "outputs": [
        {
          "output_type": "execute_result",
          "data": {
            "text/plain": [
              "RNNBaseline(\n",
              "  (emb_layer): Embedding(202588, 200)\n",
              "  (rnn_layer): RNN(200, 300)\n",
              "  (linear_layer): Linear(in_features=300, out_features=1, bias=True)\n",
              ")"
            ]
          },
          "metadata": {},
          "execution_count": 12
        }
      ],
      "source": [
        "em_sz = 200\n",
        "nh = 300\n",
        "v_size = len(TEXT.vocab)\n",
        "model_rnn = RNNBaseline(nh, em_sz, v_size)\n",
        "model_rnn"
      ]
    },
    {
      "cell_type": "markdown",
      "metadata": {
        "id": "UvctmT6MXzqX"
      },
      "source": [
        "*If* you're using GPU, remember to call model.cuda() to move your model to the GPU."
      ]
    },
    {
      "cell_type": "code",
      "source": [
        "device = torch.device('cuda' if torch.cuda.is_available() else 'cpu')  "
      ],
      "metadata": {
        "id": "cbRQgCD8wgJ0"
      },
      "execution_count": null,
      "outputs": []
    },
    {
      "cell_type": "code",
      "execution_count": null,
      "metadata": {
        "id": "BEmLspl-XzqX",
        "colab": {
          "base_uri": "https://localhost:8080/"
        },
        "outputId": "3bba739b-9ee8-48e8-f300-b98ca293776d"
      },
      "outputs": [
        {
          "output_type": "execute_result",
          "data": {
            "text/plain": [
              "RNNBaseline(\n",
              "  (emb_layer): Embedding(202588, 200)\n",
              "  (rnn_layer): RNN(200, 300)\n",
              "  (linear_layer): Linear(in_features=300, out_features=1, bias=True)\n",
              ")"
            ]
          },
          "metadata": {},
          "execution_count": 14
        }
      ],
      "source": [
        "model_rnn.to(device)"
      ]
    },
    {
      "cell_type": "markdown",
      "metadata": {
        "id": "wttBF3JLXzqY"
      },
      "source": [
        "### Training loop"
      ]
    },
    {
      "cell_type": "markdown",
      "metadata": {
        "id": "h4HdCt7gXzqY"
      },
      "source": [
        "Define the optimizer and the loss function"
      ]
    },
    {
      "cell_type": "code",
      "execution_count": null,
      "metadata": {
        "id": "QruMA8qOXzqY"
      },
      "outputs": [],
      "source": [
        "opt = optim.SGD(model_rnn.parameters(), lr = 0.01)\n",
        "loss_func = nn.BCEWithLogitsLoss()\n",
        "loss_func = loss_func.to(device)"
      ]
    },
    {
      "cell_type": "markdown",
      "metadata": {
        "id": "oiQn6YO8XzqZ"
      },
      "source": [
        "Set the number of training epochs"
      ]
    },
    {
      "cell_type": "code",
      "execution_count": null,
      "metadata": {
        "id": "aFRXDxatXzqZ"
      },
      "outputs": [],
      "source": [
        "epochs = 50"
      ]
    },
    {
      "cell_type": "markdown",
      "metadata": {
        "id": "bWdzskyGkJLw"
      },
      "source": [
        "Finally, run the training loop"
      ]
    },
    {
      "cell_type": "markdown",
      "source": [
        "## Функция для использования в RNN и GRU"
      ],
      "metadata": {
        "id": "OcFL8u-uoll0"
      }
    },
    {
      "cell_type": "code",
      "execution_count": null,
      "metadata": {
        "id": "j3Aip0CkXzqZ",
        "colab": {
          "base_uri": "https://localhost:8080/"
        },
        "outputId": "8e0f4ba3-b4c1-4e4c-9466-717e89c2e41d"
      },
      "outputs": [
        {
          "output_type": "stream",
          "name": "stdout",
          "text": [
            "CPU times: user 5 µs, sys: 0 ns, total: 5 µs\n",
            "Wall time: 8.58 µs\n"
          ]
        }
      ],
      "source": [
        "%%time\n",
        "def train_model(model, epochs):\n",
        "    for epoch in range(1, epochs + 1):\n",
        "        running_loss = 0.0\n",
        "        running_corrects = 0\n",
        "        model.train() \n",
        "\n",
        "        # i = 0\n",
        "        for batch in train_iter: \n",
        "            x = batch.text\n",
        "            y = batch.label\n",
        "            if x.shape[1] != 64:\n",
        "                break\n",
        "            y_r = y.reshape(64,1).float()\n",
        "\n",
        "            opt.zero_grad()\n",
        "            preds = model(x)\n",
        "            loss = loss_func(preds, y_r)\n",
        "\n",
        "            loss.backward()\n",
        "            opt.step()\n",
        "            running_loss += loss.item()\n",
        "\n",
        "            # if i % 100 == 0:\n",
        "            #    print('TRAIN, n bath:', i)\n",
        "\n",
        "            # i += 1\n",
        "\n",
        "        epoch_loss = running_loss / len(trn)\n",
        "      \n",
        "        val_loss = 0.0\n",
        "        model.eval()\n",
        "        for batch in val_iter:\n",
        "            \n",
        "            x = batch.text\n",
        "            y = batch.label\n",
        "            if x.shape[1] != 64:\n",
        "                break\n",
        "            y_r = y.reshape(64,1).float()\n",
        "            \n",
        "            preds = model(x, ) \n",
        "            loss = loss_func(preds, y_r)\n",
        "            val_loss += loss.item()\n",
        "            \n",
        "        val_loss /= len(vld)\n",
        "        print(f'Epoch: {epoch}, Training Loss: {epoch_loss}, Validation Loss: {val_loss}')"
      ]
    },
    {
      "cell_type": "markdown",
      "source": [
        "## Train RNN"
      ],
      "metadata": {
        "id": "0dPrknqQo3Bj"
      }
    },
    {
      "cell_type": "code",
      "source": [
        "train_model(model_rnn, epochs)"
      ],
      "metadata": {
        "colab": {
          "base_uri": "https://localhost:8080/"
        },
        "id": "EWhlMBE3o6fM",
        "outputId": "4043acb5-16a6-40aa-8d1c-ff7203843db1"
      },
      "execution_count": null,
      "outputs": [
        {
          "output_type": "stream",
          "name": "stdout",
          "text": [
            "Epoch: 1, Training Loss: 0.010816132436479841, Validation Loss: 0.010859021425247192\n",
            "Epoch: 2, Training Loss: 0.010740893459320068, Validation Loss: 0.010842136279741923\n",
            "Epoch: 3, Training Loss: 0.010688283784048899, Validation Loss: 0.010828282968203227\n",
            "Epoch: 4, Training Loss: 0.010642324365888323, Validation Loss: 0.010815674646695455\n",
            "Epoch: 5, Training Loss: 0.010597916878972736, Validation Loss: 0.010802746526400248\n",
            "Epoch: 6, Training Loss: 0.010552611003603255, Validation Loss: 0.010787582262357076\n",
            "Epoch: 7, Training Loss: 0.010504889222553798, Validation Loss: 0.010767136017481487\n",
            "Epoch: 8, Training Loss: 0.010453326511383056, Validation Loss: 0.010737139900525411\n",
            "Epoch: 9, Training Loss: 0.010395997922761099, Validation Loss: 0.010698704417546591\n",
            "Epoch: 10, Training Loss: 0.010331494222368513, Validation Loss: 0.010675577410062155\n",
            "Epoch: 11, Training Loss: 0.010263893682616097, Validation Loss: 0.010635372972488403\n",
            "Epoch: 12, Training Loss: 0.0101421080827713, Validation Loss: 0.010498528265953063\n",
            "Epoch: 13, Training Loss: 0.009782479211262294, Validation Loss: 0.009950811235109965\n",
            "Epoch: 14, Training Loss: 0.009448038188048772, Validation Loss: 0.010082678739229838\n",
            "Epoch: 15, Training Loss: 0.009334459284373693, Validation Loss: 0.010206679010391234\n",
            "Epoch: 16, Training Loss: 0.00955035366160529, Validation Loss: 0.010898273770014445\n",
            "Epoch: 17, Training Loss: 0.010542812303134374, Validation Loss: 0.010862135616938273\n",
            "Epoch: 18, Training Loss: 0.010480600547790528, Validation Loss: 0.010850200613339743\n",
            "Epoch: 19, Training Loss: 0.010409720727375575, Validation Loss: 0.010842378767331441\n",
            "Epoch: 20, Training Loss: 0.010315838398252215, Validation Loss: 0.01081393727461497\n",
            "Epoch: 21, Training Loss: 0.0102034903049469, Validation Loss: 0.010688950387636821\n",
            "Epoch: 22, Training Loss: 0.010017889188017165, Validation Loss: 0.010792923744519551\n",
            "Epoch: 23, Training Loss: 0.010101220328467234, Validation Loss: 0.010754367566108704\n",
            "Epoch: 24, Training Loss: 0.010013309366362435, Validation Loss: 0.010720319668451946\n",
            "Epoch: 25, Training Loss: 0.009918418306963784, Validation Loss: 0.010661886310577393\n",
            "Epoch: 26, Training Loss: 0.009799567641530718, Validation Loss: 0.010547284412384034\n",
            "Epoch: 27, Training Loss: 0.00962002980879375, Validation Loss: 0.01029482524394989\n",
            "Epoch: 28, Training Loss: 0.009289839013985226, Validation Loss: 0.011458624958992004\n",
            "Epoch: 29, Training Loss: 0.009256663228784288, Validation Loss: 0.010496602582931518\n",
            "Epoch: 30, Training Loss: 0.009141404392038073, Validation Loss: 0.010509793424606324\n",
            "Epoch: 31, Training Loss: 0.00905140175819397, Validation Loss: 0.011086465175946554\n",
            "Epoch: 32, Training Loss: 0.010464349259649005, Validation Loss: 0.010874031551678976\n",
            "Epoch: 33, Training Loss: 0.01029972995349339, Validation Loss: 0.010897406760851542\n",
            "Epoch: 34, Training Loss: 0.010158108159473964, Validation Loss: 0.010927589543660481\n",
            "Epoch: 35, Training Loss: 0.010034990675108773, Validation Loss: 0.010909234960873922\n",
            "Epoch: 36, Training Loss: 0.00992474648952484, Validation Loss: 0.010870578479766845\n",
            "Epoch: 37, Training Loss: 0.009814679251398358, Validation Loss: 0.010836814975738525\n",
            "Epoch: 38, Training Loss: 0.009690954528536116, Validation Loss: 0.0107828027566274\n",
            "Epoch: 39, Training Loss: 0.00952142482144492, Validation Loss: 0.010615762082735698\n",
            "Epoch: 40, Training Loss: 0.009246587857178279, Validation Loss: 0.010153252629439035\n",
            "Epoch: 41, Training Loss: 0.00919034264257976, Validation Loss: 0.010944095023473105\n",
            "Epoch: 42, Training Loss: 0.010292075490951538, Validation Loss: 0.011010094857215881\n",
            "Epoch: 43, Training Loss: 0.0099958094562803, Validation Loss: 0.010993925110499065\n",
            "Epoch: 44, Training Loss: 0.010274506514413017, Validation Loss: 0.010959444816907247\n",
            "Epoch: 45, Training Loss: 0.010149543983595712, Validation Loss: 0.01095782630443573\n",
            "Epoch: 46, Training Loss: 0.0100564354964665, Validation Loss: 0.010957632438341776\n",
            "Epoch: 47, Training Loss: 0.009970669439860753, Validation Loss: 0.010960416110356648\n",
            "Epoch: 48, Training Loss: 0.009885406408991132, Validation Loss: 0.010968973342577617\n",
            "Epoch: 49, Training Loss: 0.009797789662224906, Validation Loss: 0.01098269628683726\n",
            "Epoch: 50, Training Loss: 0.009706125683443886, Validation Loss: 0.010995479154586792\n"
          ]
        }
      ]
    },
    {
      "cell_type": "markdown",
      "metadata": {
        "id": "D_Vw14WxXzqZ"
      },
      "source": [
        "### Calculate performance of the trained model (10 points)"
      ]
    },
    {
      "cell_type": "code",
      "execution_count": null,
      "metadata": {
        "id": "291eQyyHXzqa"
      },
      "outputs": [],
      "source": [
        "def get_score(model):\n",
        "    recall_score_list = []\n",
        "    precision_score_list = []\n",
        "    f1_score_list = []\n",
        "    accuracy_score_list = []\n",
        "\n",
        "    for batch in test_iter:\n",
        "        x = batch.text\n",
        "        y = batch.label\n",
        "        if x.shape[1] != 64:\n",
        "            break\n",
        "        y_r = y.reshape(64,1).cpu().detach().numpy()\n",
        "        p = model(x)\n",
        "        pred = torch.round(torch.sigmoid(p))\n",
        "        y_pred = pred.cpu().detach().numpy()\n",
        "        # y_pred = np.where(pred > 0.5, 1, 0)\n",
        "\n",
        "        recall_score_list.append(recall_score(y_r, y_pred))\n",
        "        precision_score_list.append(precision_score(y_r, y_pred)) \n",
        "        f1_score_list.append(f1_score(y_r, y_pred))\n",
        "        accuracy_score_list.append(accuracy_score(y_r, y_pred))\n",
        "\n",
        "\n",
        "    recall = statistics.mean(recall_score_list)\n",
        "    precision = statistics.mean(precision_score_list)\n",
        "    f1 = statistics.mean(f1_score_list)\n",
        "    accuracy = statistics.mean(accuracy_score_list)\n",
        "\n",
        "    print('ACCURACY: ', accuracy)\n",
        "    print('PRECISION: ', precision)\n",
        "    print('RECALL: ', recall)\n",
        "    print('F1 SCORE: ', f1)"
      ]
    },
    {
      "cell_type": "code",
      "source": [
        "get_score(model_rnn)"
      ],
      "metadata": {
        "colab": {
          "base_uri": "https://localhost:8080/"
        },
        "id": "LJf4sw7rpHN7",
        "outputId": "0f88505d-8307-4787-817b-9008692a385f"
      },
      "execution_count": null,
      "outputs": [
        {
          "output_type": "stream",
          "name": "stdout",
          "text": [
            "ACCURACY:  0.576602564102564\n",
            "PRECISION:  0.5651822469714691\n",
            "RECALL:  0.5860584185555081\n",
            "F1 SCORE:  0.5525374224972183\n"
          ]
        }
      ]
    },
    {
      "cell_type": "markdown",
      "metadata": {
        "id": "bTs5KZBBXzqa"
      },
      "source": [
        "Report the calculated performance below\n",
        "\n",
        "#### Accuracy: **0.5766**\n",
        "#### Precision: **0.5652**\n",
        "#### Recall: **0.5860**\n",
        "#### F1: **0.5525**"
      ]
    },
    {
      "cell_type": "markdown",
      "source": [
        "# ======= GRU =======\n",
        "\n",
        "Изменения по сравнению с RNN моделью:\n",
        "\n",
        "* слои **GRU**, \n",
        "* двунаправленная сеть **bidirectional=True**\n",
        "* добавляем **dropout**\n",
        "* оптимизатор - **Adam**"
      ],
      "metadata": {
        "id": "0yTI7kifpSfr"
      }
    },
    {
      "cell_type": "code",
      "source": [
        "class GRUmodel(nn.Module):\n",
        "    def __init__(self, hidden_dim, emb_dim, vocab_dim):\n",
        "        super().__init__()\n",
        "        self.hidden_dim = hidden_dim\n",
        "        self.emb_dim = emb_dim\n",
        "        self.vocab_dim = vocab_dim\n",
        "        self.n_classes = 2\n",
        "        self.device = torch.device('cuda' if torch.cuda.is_available() else 'cpu')  \n",
        "\n",
        "        # Layers\n",
        "        self.emb_layer = nn.Embedding(self.vocab_dim, self.emb_dim)\n",
        "        self.gru_layer = nn.GRU(self.emb_dim, self.hidden_dim, bidirectional=True)\n",
        "        self.linear_layer = nn.Linear(self.hidden_dim * 2, 1)\n",
        "        self.dropout = nn.Dropout(0.2)\n",
        "\n",
        "            \n",
        "    def forward(self, seq):\n",
        "        batch_size = seq.size(1)\n",
        "        h = Variable(torch.zeros((2, batch_size, self.hidden_dim)).to(self.device))  # initialize hidden state of GRU\n",
        "\n",
        "        emb = self.emb_layer(seq)  # seq = [seq len, batch size], emb = [seq len, batch size, self.emb_dim]\n",
        "        out, hidden = self.gru_layer(emb, h)  # out = [sent len, batch size, hid dim]  # hidden = [1, batch size, hid dim]\n",
        "        h = self.dropout(torch.cat([hidden[-1], hidden[-2]], dim=-1))\n",
        "        preds = self.linear_layer(h.squeeze(0))\n",
        "        return preds"
      ],
      "metadata": {
        "id": "W-ZVZrsIpfxu"
      },
      "execution_count": null,
      "outputs": []
    },
    {
      "cell_type": "code",
      "source": [
        "em_sz = 200\n",
        "nh = 300\n",
        "v_size = len(TEXT.vocab)\n",
        "model_gru = GRUmodel(nh, em_sz, v_size)\n",
        "model_gru"
      ],
      "metadata": {
        "colab": {
          "base_uri": "https://localhost:8080/"
        },
        "id": "SEPwUU4Vplp0",
        "outputId": "bd743301-e555-4dfd-ca38-bccb4862a0b2"
      },
      "execution_count": null,
      "outputs": [
        {
          "output_type": "execute_result",
          "data": {
            "text/plain": [
              "GRUmodel(\n",
              "  (emb_layer): Embedding(202588, 200)\n",
              "  (gru_layer): GRU(200, 300, bidirectional=True)\n",
              "  (linear_layer): Linear(in_features=600, out_features=1, bias=True)\n",
              "  (dropout): Dropout(p=0.2, inplace=False)\n",
              ")"
            ]
          },
          "metadata": {},
          "execution_count": 22
        }
      ]
    },
    {
      "cell_type": "code",
      "source": [
        "model_gru.to(device)"
      ],
      "metadata": {
        "colab": {
          "base_uri": "https://localhost:8080/"
        },
        "id": "dIPtnfhFpoEv",
        "outputId": "1998c820-a626-4869-8927-9265e36818ec"
      },
      "execution_count": null,
      "outputs": [
        {
          "output_type": "execute_result",
          "data": {
            "text/plain": [
              "GRUmodel(\n",
              "  (emb_layer): Embedding(202588, 200)\n",
              "  (gru_layer): GRU(200, 300, bidirectional=True)\n",
              "  (linear_layer): Linear(in_features=600, out_features=1, bias=True)\n",
              "  (dropout): Dropout(p=0.2, inplace=False)\n",
              ")"
            ]
          },
          "metadata": {},
          "execution_count": 23
        }
      ]
    },
    {
      "cell_type": "code",
      "source": [
        "opt = optim.Adam(model_gru.parameters(), lr = 0.00001)\n",
        "loss_func = nn.BCEWithLogitsLoss() \n",
        "loss_func = loss_func.to(device)"
      ],
      "metadata": {
        "id": "y-U10fEIprj8"
      },
      "execution_count": null,
      "outputs": []
    },
    {
      "cell_type": "code",
      "source": [
        "epochs = 30"
      ],
      "metadata": {
        "id": "G7QGi8Xip8MM"
      },
      "execution_count": null,
      "outputs": []
    },
    {
      "cell_type": "code",
      "source": [
        "train_model(model_gru, epochs)"
      ],
      "metadata": {
        "colab": {
          "base_uri": "https://localhost:8080/"
        },
        "id": "Lj5XaNfCp-eD",
        "outputId": "a77faf6b-5eb1-4a45-97f5-27b5a3fe14cd"
      },
      "execution_count": null,
      "outputs": [
        {
          "output_type": "stream",
          "name": "stdout",
          "text": [
            "Epoch: 1, Training Loss: 0.010810070453371321, Validation Loss: 0.010762339289983113\n",
            "Epoch: 2, Training Loss: 0.010735974846567426, Validation Loss: 0.010717456364631653\n",
            "Epoch: 3, Training Loss: 0.010663935913358416, Validation Loss: 0.01067849539120992\n",
            "Epoch: 4, Training Loss: 0.010610184492383684, Validation Loss: 0.010640575528144836\n",
            "Epoch: 5, Training Loss: 0.010543423141751971, Validation Loss: 0.010600974114735921\n",
            "Epoch: 6, Training Loss: 0.010474971985816955, Validation Loss: 0.010556884431838989\n",
            "Epoch: 7, Training Loss: 0.010404274606704712, Validation Loss: 0.010505102968215942\n",
            "Epoch: 8, Training Loss: 0.010315443641798837, Validation Loss: 0.010439911754926045\n",
            "Epoch: 9, Training Loss: 0.01021525731086731, Validation Loss: 0.01034961876074473\n",
            "Epoch: 10, Training Loss: 0.01005794382095337, Validation Loss: 0.01020822984377543\n",
            "Epoch: 11, Training Loss: 0.009805708268710545, Validation Loss: 0.009949998807907104\n",
            "Epoch: 12, Training Loss: 0.009212560047422137, Validation Loss: 0.00945635662873586\n",
            "Epoch: 13, Training Loss: 0.008592480727604457, Validation Loss: 0.009213312113285065\n",
            "Epoch: 14, Training Loss: 0.008233527064323426, Validation Loss: 0.008895035445690156\n",
            "Epoch: 15, Training Loss: 0.007994359084538051, Validation Loss: 0.008717551028728485\n",
            "Epoch: 16, Training Loss: 0.00777393159696034, Validation Loss: 0.008594464723269146\n",
            "Epoch: 17, Training Loss: 0.007585156752382006, Validation Loss: 0.008450342150529226\n",
            "Epoch: 18, Training Loss: 0.007418089342117309, Validation Loss: 0.008396150509516398\n",
            "Epoch: 19, Training Loss: 0.00725992237329483, Validation Loss: 0.008324099890391031\n",
            "Epoch: 20, Training Loss: 0.007117348883833204, Validation Loss: 0.008254265447457632\n",
            "Epoch: 21, Training Loss: 0.006986379018851689, Validation Loss: 0.008117850561936696\n",
            "Epoch: 22, Training Loss: 0.0068346508502960205, Validation Loss: 0.008152851156393687\n",
            "Epoch: 23, Training Loss: 0.00670540097611291, Validation Loss: 0.00804143560330073\n",
            "Epoch: 24, Training Loss: 0.0065743166174207415, Validation Loss: 0.008109975488980611\n",
            "Epoch: 25, Training Loss: 0.00646222221170153, Validation Loss: 0.007974121030171713\n",
            "Epoch: 26, Training Loss: 0.006338737348147801, Validation Loss: 0.007863029023011526\n",
            "Epoch: 27, Training Loss: 0.00622390318768365, Validation Loss: 0.00783698533376058\n",
            "Epoch: 28, Training Loss: 0.0061011280962399075, Validation Loss: 0.007701217818260193\n",
            "Epoch: 29, Training Loss: 0.006009149925197874, Validation Loss: 0.007705930292606354\n",
            "Epoch: 30, Training Loss: 0.0058985192367008756, Validation Loss: 0.00777554327249527\n"
          ]
        }
      ]
    },
    {
      "cell_type": "code",
      "source": [
        "get_score(model_gru)"
      ],
      "metadata": {
        "colab": {
          "base_uri": "https://localhost:8080/"
        },
        "id": "v_eT3BxuqAku",
        "outputId": "65f308fc-1209-4292-bc08-c6de0cc54b00"
      },
      "execution_count": null,
      "outputs": [
        {
          "output_type": "stream",
          "name": "stdout",
          "text": [
            "ACCURACY:  0.7565705128205128\n",
            "PRECISION:  0.7061131160201255\n",
            "RECALL:  0.7586275849862272\n",
            "F1 SCORE:  0.7189842718030904\n"
          ]
        }
      ]
    },
    {
      "cell_type": "markdown",
      "source": [
        "Сообщите о рассчитанной эффективности ниже\n",
        "\n",
        "#### Accuracy: **0.7566**\n",
        "#### Precision: **0.7061**\n",
        "#### Recall: **0.7586**\n",
        "#### F1: **0.7190**"
      ],
      "metadata": {
        "id": "NHrFgSL3qFME"
      }
    },
    {
      "cell_type": "code",
      "source": [
        "torch.cuda.empty_cache()"
      ],
      "metadata": {
        "id": "t_QUVGsy3gwX"
      },
      "execution_count": null,
      "outputs": []
    },
    {
      "cell_type": "markdown",
      "metadata": {
        "id": "kSJlVgalXzqa"
      },
      "source": [
        "### Experiments\n",
        "\n",
        "Feel free to experiment with the model to improve performance scores. You can find advices [here](https://arxiv.org/abs/1801.06146). \n",
        "\n",
        "Below describe, please, \n",
        " - your improvements and challenges you faced\n",
        " - provide your experiments' implementation details\n",
        " - explain your choice of architecture/training method/regularization techniques etc."
      ]
    },
    {
      "cell_type": "markdown",
      "metadata": {
        "id": "He1vAfd1Xzqa"
      },
      "source": [
        "### 1. .. \n",
        "Проблема - PyTorch - не уютный для меня фреймворк, по сравнению с tf.keras\n",
        "\n",
        "Проблема 2 - колаб выбрасывает через 4 часа (GPU) с блокировкой на сутки. \n",
        "\n",
        "### 2. ..\n",
        "Реализовано 3 эксперимента - простая сеть RNN, bidirectional GRU, сеть на основе BERT. Для улучшения 2-й модели по сравнению с первой были предприняты решения: \n",
        "\n",
        "* слои **GRU**, \n",
        "* двунаправленная сеть **bidirectional=True**\n",
        "* добавляем **dropout**\n",
        "* оптимизатор - **Adam**\n",
        "\n",
        "По моему опыту лучшие решения по классификации текста - на предобученной модели BERT с размороженным последнем слоем. Создал модель на BERT для сравнения результатов\n",
        "\n",
        "### 3. ..\n",
        "\n",
        "**Оптимизатор Adam** (и его разновидности) - с моей точки зрения - лучший. В нашем случае бинарная кроссэнтропия - лучший выбор (модель обучается быстрее - много раз тестировал ранее). \n",
        "\n",
        "**Dropout** - обычно даёт неплохие результаты в пределах 0.2 - 0.3\n",
        "\n",
        "**Нормализация** - это хорошо, но не в нашем случае (нормализовать индексы слов - плохая идея) - не используем\n",
        "\n",
        "**bidirectional=True** - по сути двунаправленное прохождение текста - результат лучше\n",
        "\n",
        "**Softmax** - логарифмическая зависимость увеличивает стремление выходных значений к 0 или 1, а это важно для бинарной кроссэнтропии, т.к. если мы подадим y_true = 0.9 и y_pred = 0.9 на вход бинарной кроссэнтропии, то не смотря на то, что значения равны, loss бинарной кроссэнтропии не будет равен 0\n",
        "\n",
        "#=====================================================\n",
        "С моделью на основе BERT тяжело состязаться, но можно предпринять ряд мер для первых 2 моделей:\n",
        "\n",
        "- лемматизация текста\n",
        "- увеличение размера embadding (подбирается экспериментально)\n",
        "- регуляризация (надо тестировать различные варианты)\n",
        "- использование в качестве входных весов (embadding) веса слов, например из fasttext - даёт очень хороший прирост к точности\n",
        "- подбор количества и типов различных архитектур нейросетей для ансамблевой модели\n",
        "- использовать ансамблевую нейросеть GRU bidirectional + многослойную CNN (Conv1d) с пробросами связей от верхнего уровня до следующих слоёв\n",
        "- извлечь дополнительные признаки из текста, такие как: \n",
        "-- длина сообщения, \n",
        "-- доля уникальных слов (например, ругательства состоят из повторяющихся слов)\n",
        "-- доля ошибок\n",
        "-- доля слов набранных CAPS LOCK\n",
        "-- и др.\n",
        "- данные признаки подать на дополнительный вход ансамблевой нейросети, это может дать до 0.2% к увеличению точности\n",
        "- попробовать различные варианты оптимизатора Adam\n",
        "- сделать callback функцию, которая запишет веса на лучших показаниях валидационной выборки.\n",
        "- использовать генетический алгоритм для подбора как гиперпараметров сети, так и количества слоёв (требуется огромное количество времени)"
      ]
    },
    {
      "cell_type": "markdown",
      "source": [
        "# ======= BERT =======\n",
        "Лучшую точность классификации данных даст модель на BERT"
      ],
      "metadata": {
        "id": "eOlzTFN9ukAV"
      }
    },
    {
      "cell_type": "code",
      "source": [
        "!pip install -q -U \"tensorflow-text==2.8.*\""
      ],
      "metadata": {
        "id": "IGCxepSfuoV9"
      },
      "execution_count": null,
      "outputs": []
    },
    {
      "cell_type": "code",
      "execution_count": null,
      "metadata": {
        "id": "0fhC4480oYLP",
        "colab": {
          "base_uri": "https://localhost:8080/"
        },
        "outputId": "0f221dcd-e4be-4ff6-a9fe-e5e214b12407"
      },
      "outputs": [
        {
          "output_type": "stream",
          "name": "stdout",
          "text": [
            "Looking in indexes: https://pypi.org/simple, https://us-python.pkg.dev/colab-wheels/public/simple/\n",
            "Requirement already satisfied: tensorflow-addons in /usr/local/lib/python3.7/dist-packages (0.17.1)\n",
            "Requirement already satisfied: typeguard>=2.7 in /usr/local/lib/python3.7/dist-packages (from tensorflow-addons) (2.7.1)\n",
            "Requirement already satisfied: packaging in /usr/local/lib/python3.7/dist-packages (from tensorflow-addons) (21.3)\n",
            "Requirement already satisfied: pyparsing!=3.0.5,>=2.0.2 in /usr/local/lib/python3.7/dist-packages (from packaging->tensorflow-addons) (3.0.9)\n"
          ]
        }
      ],
      "source": [
        "pip install tensorflow-addons"
      ]
    },
    {
      "cell_type": "code",
      "source": [
        "from matplotlib import pyplot as plt\n",
        "\n",
        "import tensorflow as tf\n",
        "import tensorflow_datasets as tfds\n",
        "\n",
        "from tensorflow.keras import Model\n",
        "from tensorflow.keras.layers import Input, Dense, Dropout\n",
        "from tensorflow.keras.utils import plot_model, to_categorical\n",
        "from tensorflow.keras.optimizers import Adam\n",
        "import tensorflow_addons as tfa\n",
        "\n",
        "import tensorflow_hub as hub\n",
        "import tensorflow_text as text"
      ],
      "metadata": {
        "id": "TFV_Q26huskc"
      },
      "execution_count": null,
      "outputs": []
    },
    {
      "cell_type": "markdown",
      "source": [
        "## Load data IMDB"
      ],
      "metadata": {
        "id": "SeyScg0Xuwuk"
      }
    },
    {
      "cell_type": "code",
      "source": [
        "train_data, test_data = tfds.load(name=\"imdb_reviews\", split=[\"train\", \"test\"], \n",
        "                                  batch_size=-1, as_supervised=True)\n",
        "\n",
        "train_x, train_y = tfds.as_numpy(train_data)\n",
        "test_x, test_y = tfds.as_numpy(test_data)"
      ],
      "metadata": {
        "colab": {
          "base_uri": "https://localhost:8080/"
        },
        "id": "JEmO7G9XuwZM",
        "outputId": "71881396-d862-4bf4-a417-f4fc3a61d42c"
      },
      "execution_count": null,
      "outputs": [
        {
          "output_type": "stream",
          "name": "stdout",
          "text": [
            "WARNING:tensorflow:From /usr/local/lib/python3.7/dist-packages/tensorflow_datasets/core/dataset_builder.py:598: get_single_element (from tensorflow.python.data.experimental.ops.get_single_element) is deprecated and will be removed in a future version.\n",
            "Instructions for updating:\n",
            "Use `tf.data.Dataset.get_single_element()`.\n"
          ]
        },
        {
          "output_type": "stream",
          "name": "stderr",
          "text": [
            "WARNING:tensorflow:From /usr/local/lib/python3.7/dist-packages/tensorflow_datasets/core/dataset_builder.py:598: get_single_element (from tensorflow.python.data.experimental.ops.get_single_element) is deprecated and will be removed in a future version.\n",
            "Instructions for updating:\n",
            "Use `tf.data.Dataset.get_single_element()`.\n"
          ]
        }
      ]
    },
    {
      "cell_type": "code",
      "source": [
        "train_y_cat = to_categorical(train_y, dtype='int')\n",
        "test_y_cat = to_categorical(test_y, dtype='int')"
      ],
      "metadata": {
        "id": "-Urfg6dmu5UM"
      },
      "execution_count": null,
      "outputs": []
    },
    {
      "cell_type": "code",
      "source": [
        "train_x[:2]"
      ],
      "metadata": {
        "colab": {
          "base_uri": "https://localhost:8080/"
        },
        "id": "m9SPr0H5u7cc",
        "outputId": "f76a0726-0095-4f17-b4a1-5298a88207f7"
      },
      "execution_count": null,
      "outputs": [
        {
          "output_type": "execute_result",
          "data": {
            "text/plain": [
              "array([b\"This was an absolutely terrible movie. Don't be lured in by Christopher Walken or Michael Ironside. Both are great actors, but this must simply be their worst role in history. Even their great acting could not redeem this movie's ridiculous storyline. This movie is an early nineties US propaganda piece. The most pathetic scenes were those when the Columbian rebels were making their cases for revolutions. Maria Conchita Alonso appeared phony, and her pseudo-love affair with Walken was nothing but a pathetic emotional plug in a movie that was devoid of any real meaning. I am disappointed that there are movies like this, ruining actor's like Christopher Walken's good name. I could barely sit through it.\",\n",
              "       b'I have been known to fall asleep during films, but this is usually due to a combination of things including, really tired, being warm and comfortable on the sette and having just eaten a lot. However on this occasion I fell asleep because the film was rubbish. The plot development was constant. Constantly slow and boring. Things seemed to happen, but with no explanation of what was causing them or why. I admit, I may have missed part of the film, but i watched the majority of it and everything just seemed to happen of its own accord without any real concern for anything else. I cant recommend this film at all.'],\n",
              "      dtype=object)"
            ]
          },
          "metadata": {},
          "execution_count": 35
        }
      ]
    },
    {
      "cell_type": "code",
      "source": [
        "train_y_cat[0:10]"
      ],
      "metadata": {
        "colab": {
          "base_uri": "https://localhost:8080/"
        },
        "id": "h5f_KKuMu99j",
        "outputId": "53ef1e2b-977c-49fd-88c8-b0dd613c16ef"
      },
      "execution_count": null,
      "outputs": [
        {
          "output_type": "execute_result",
          "data": {
            "text/plain": [
              "array([[1, 0],\n",
              "       [1, 0],\n",
              "       [1, 0],\n",
              "       [0, 1],\n",
              "       [0, 1],\n",
              "       [0, 1],\n",
              "       [1, 0],\n",
              "       [1, 0],\n",
              "       [1, 0],\n",
              "       [1, 0]])"
            ]
          },
          "metadata": {},
          "execution_count": 36
        }
      ]
    },
    {
      "cell_type": "markdown",
      "source": [
        "## Load text preprocessor, load pretrained model"
      ],
      "metadata": {
        "id": "OchF2IcEvBtM"
      }
    },
    {
      "cell_type": "code",
      "source": [
        "bert_preprocess = hub.KerasLayer(\"https://tfhub.dev/tensorflow/bert_en_uncased_preprocess/3\")\n",
        "bert_encoder = hub.KerasLayer(\"https://tfhub.dev/tensorflow/bert_en_uncased_L-12_H-768_A-12/4\", trainable=True)"
      ],
      "metadata": {
        "id": "IXBHYMEXvFgV"
      },
      "execution_count": null,
      "outputs": []
    },
    {
      "cell_type": "markdown",
      "source": [
        "## Model"
      ],
      "metadata": {
        "id": "-U6MelyovRko"
      }
    },
    {
      "cell_type": "code",
      "source": [
        "text_input = Input(shape=(), dtype=tf.string, name='text')\n",
        "preprocessed_text = bert_preprocess(text_input)\n",
        "outputs = bert_encoder(preprocessed_text)\n",
        "\n",
        "x = outputs['pooled_output']\n",
        "x = Dense(768, activation='relu')(x)\n",
        "x = Dropout(0.25)(x)\n",
        "x_output = Dense(2, activation='softmax')(x)\n",
        "\n",
        "model_bert = Model(inputs=[text_input], outputs = [x_output])\n",
        "plot_model(model_bert, show_shapes=True, expand_nested=True, show_layer_names=True, dpi=50)"
      ],
      "metadata": {
        "colab": {
          "base_uri": "https://localhost:8080/",
          "height": 363
        },
        "id": "IRBXnWDVvVwl",
        "outputId": "c1caed4b-1c9c-4dfe-9f37-13452bcc9541"
      },
      "execution_count": null,
      "outputs": [
        {
          "output_type": "execute_result",
          "data": {
            "text/plain": [
              "<IPython.core.display.Image object>"
            ],
            "image/png": "[encoded data removed]"
          },
          "metadata": {},
          "execution_count": 38
        }
      ]
    },
    {
      "cell_type": "code",
      "source": [
        "model_bert.compile(loss='binary_crossentropy', optimizer=Adam(learning_rate=(0.00001)), metrics=['accuracy', 'Precision', 'Recall', tfa.metrics.F1Score(2)])"
      ],
      "metadata": {
        "id": "ETN1vfu1vaqZ"
      },
      "execution_count": null,
      "outputs": []
    },
    {
      "cell_type": "code",
      "source": [
        "history = model_bert.fit(\n",
        "    x = train_x,\n",
        "    y = train_y_cat, \n",
        "    epochs = 5,\n",
        "    batch_size = 8,\n",
        "    validation_split = 0.1,\n",
        "    verbose = 1\n",
        ")"
      ],
      "metadata": {
        "colab": {
          "base_uri": "https://localhost:8080/"
        },
        "id": "Th5wa-r4veYO",
        "outputId": "ae1f4608-f47a-4e75-d2d3-bacc87e1b309"
      },
      "execution_count": null,
      "outputs": [
        {
          "output_type": "stream",
          "name": "stdout",
          "text": [
            "Epoch 1/5\n",
            "2813/2813 [==============================] - 767s 266ms/step - loss: 0.3383 - accuracy: 0.8519 - precision: 0.8519 - recall: 0.8519 - f1_score: 0.8519 - val_loss: 0.2835 - val_accuracy: 0.8772 - val_precision: 0.8772 - val_recall: 0.8772 - val_f1_score: 0.8771\n",
            "Epoch 2/5\n",
            "2813/2813 [==============================] - 745s 265ms/step - loss: 0.2012 - accuracy: 0.9200 - precision: 0.9200 - recall: 0.9200 - f1_score: 0.9200 - val_loss: 0.2927 - val_accuracy: 0.8832 - val_precision: 0.8832 - val_recall: 0.8832 - val_f1_score: 0.8832\n",
            "Epoch 3/5\n",
            "2813/2813 [==============================] - 744s 264ms/step - loss: 0.1067 - accuracy: 0.9632 - precision: 0.9632 - recall: 0.9632 - f1_score: 0.9632 - val_loss: 0.3744 - val_accuracy: 0.8788 - val_precision: 0.8788 - val_recall: 0.8788 - val_f1_score: 0.8788\n",
            "Epoch 4/5\n",
            "2813/2813 [==============================] - 743s 264ms/step - loss: 0.0559 - accuracy: 0.9820 - precision: 0.9820 - recall: 0.9820 - f1_score: 0.9820 - val_loss: 0.4094 - val_accuracy: 0.8828 - val_precision: 0.8828 - val_recall: 0.8828 - val_f1_score: 0.8827\n",
            "Epoch 5/5\n",
            "2813/2813 [==============================] - 744s 264ms/step - loss: 0.0375 - accuracy: 0.9879 - precision: 0.9879 - recall: 0.9879 - f1_score: 0.9879 - val_loss: 0.4921 - val_accuracy: 0.8800 - val_precision: 0.8800 - val_recall: 0.8800 - val_f1_score: 0.8798\n"
          ]
        }
      ]
    },
    {
      "cell_type": "code",
      "source": [
        "# Оображаем график точности обучения\n",
        "plt.plot(history.history['accuracy'])\n",
        "plt.plot(history.history['val_accuracy'])\n",
        "plt.xlabel('Эпоха обучения')\n",
        "plt.ylabel('Доля верных ответов')\n",
        "plt.legend()\n",
        "plt.show()"
      ],
      "metadata": {
        "colab": {
          "base_uri": "https://localhost:8080/",
          "height": 297
        },
        "id": "O8ADzITjvho9",
        "outputId": "28dbd67f-46c9-42c1-843e-42de11dcd702"
      },
      "execution_count": null,
      "outputs": [
        {
          "output_type": "stream",
          "name": "stderr",
          "text": [
            "WARNING:matplotlib.legend:No handles with labels found to put in legend.\n"
          ]
        },
        {
          "output_type": "display_data",
          "data": {
            "text/plain": [
              "<Figure size 432x288 with 1 Axes>"
            ],
            "image/png": "[encoded data removed]"
          },
          "metadata": {
            "needs_background": "light"
          }
        }
      ]
    },
    {
      "cell_type": "markdown",
      "source": [
        "## Оценка модели"
      ],
      "metadata": {
        "id": "hB_vpN_6vlRU"
      }
    },
    {
      "cell_type": "code",
      "source": [
        "predict = model_bert.predict(test_x)"
      ],
      "metadata": {
        "id": "MaSjI5mWJsrG"
      },
      "execution_count": null,
      "outputs": []
    },
    {
      "cell_type": "code",
      "source": [
        "predict_r = np.round_(predict)\n",
        "predict_r"
      ],
      "metadata": {
        "colab": {
          "base_uri": "https://localhost:8080/"
        },
        "id": "od2vy0k-LJ7G",
        "outputId": "8456ef27-95af-4cbe-b899-1518350e9eda"
      },
      "execution_count": null,
      "outputs": [
        {
          "output_type": "execute_result",
          "data": {
            "text/plain": [
              "array([[0., 1.],\n",
              "       [0., 1.],\n",
              "       [1., 0.],\n",
              "       ...,\n",
              "       [1., 0.],\n",
              "       [0., 1.],\n",
              "       [0., 1.]], dtype=float32)"
            ]
          },
          "metadata": {},
          "execution_count": 49
        }
      ]
    },
    {
      "cell_type": "code",
      "source": [
        "test_y_c = test_y_cat.astype(np.float32)\n",
        "test_y_c"
      ],
      "metadata": {
        "colab": {
          "base_uri": "https://localhost:8080/"
        },
        "id": "q9TB7pvyLjNH",
        "outputId": "376f03b5-dd73-4bc6-b73d-8fa481dc85d2"
      },
      "execution_count": null,
      "outputs": [
        {
          "output_type": "execute_result",
          "data": {
            "text/plain": [
              "array([[0., 1.],\n",
              "       [0., 1.],\n",
              "       [1., 0.],\n",
              "       ...,\n",
              "       [1., 0.],\n",
              "       [0., 1.],\n",
              "       [0., 1.]], dtype=float32)"
            ]
          },
          "metadata": {},
          "execution_count": 63
        }
      ]
    },
    {
      "cell_type": "code",
      "source": [
        "recall = recall_score(test_y_c, predict_r, average='weighted')\n",
        "precision = precision_score(test_y_c, predict_r, average='weighted') \n",
        "f1 = f1_score(test_y_c, predict_r, average='weighted')\n",
        "acc = accuracy_score(test_y_c, predict_r)"
      ],
      "metadata": {
        "id": "2IM0MAz6KXdi"
      },
      "execution_count": null,
      "outputs": []
    },
    {
      "cell_type": "code",
      "source": [
        "print(f'ACCURACY: {round(acc, 4)}')\n",
        "print(f'PRECISION: {round(precision, 4)}')\n",
        "print(f'RECALL: {round(recall, 4)}')\n",
        "print(f'F1 SCORE: {round(f1, 4)}')"
      ],
      "metadata": {
        "colab": {
          "base_uri": "https://localhost:8080/"
        },
        "id": "ymrJybS2NQ4h",
        "outputId": "40b526de-83f2-4331-fa91-a184e2388c2d"
      },
      "execution_count": null,
      "outputs": [
        {
          "output_type": "stream",
          "name": "stdout",
          "text": [
            "ACCURACY: 0.8802\n",
            "PRECISION: 0.8827\n",
            "RECALL: 0.8802\n",
            "F1 SCORE: 0.88\n"
          ]
        }
      ]
    },
    {
      "cell_type": "markdown",
      "source": [
        "Сообщите о рассчитанной эффективности ниже\n",
        "\n",
        "#### Accuracy: **0.8802**\n",
        "#### Precision: **0.8827**\n",
        "#### Recall: **0.8802**\n",
        "#### F1: **0.88**"
      ],
      "metadata": {
        "id": "wMVP57gGvujU"
      }
    },
    {
      "cell_type": "markdown",
      "source": [
        "# Вывод\n",
        "Модель на основе BERT показала лучший результат."
      ],
      "metadata": {
        "id": "enW_wGaexyC3"
      }
    }
  ],
  "metadata": {
    "accelerator": "GPU",
    "colab": {
      "collapsed_sections": [],
      "name": "Практическия_реализация_NLP.ipynb",
      "provenance": []
    },
    "kernelspec": {
      "display_name": "Python 3",
      "language": "python",
      "name": "python3"
    },
    "language_info": {
      "codemirror_mode": {
        "name": "ipython",
        "version": 3
      },
      "file_extension": ".py",
      "mimetype": "text/x-python",
      "name": "python",
      "nbconvert_exporter": "python",
      "pygments_lexer": "ipython3",
      "version": "3.7.10"
    },
    "gpuClass": "standard"
  },
  "nbformat": 4,
  "nbformat_minor": 0
}